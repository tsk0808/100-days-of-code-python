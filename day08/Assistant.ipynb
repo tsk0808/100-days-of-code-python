{
 "cells": [
  {
   "cell_type": "code",
   "execution_count": 3,
   "metadata": {},
   "outputs": [],
   "source": [
    "alphabet = ['a', 'b', 'c', 'd', 'e', 'f', 'g', 'h', 'i', 'j', 'k', 'l', 'm', 'n', 'o', 'p', 'q', 'r', 's', 't', 'u', 'v', 'w', 'x', 'y', 'z', 'a', 'b', 'c', 'd', 'e', 'f', 'g', 'h', 'i', 'j', 'k', 'l', 'm', 'n', 'o', 'p', 'q', 'r', 's', 't', 'u', 'v', 'w', 'x', 'y', 'z']\n"
   ]
  },
  {
   "cell_type": "code",
   "execution_count": 4,
   "metadata": {},
   "outputs": [],
   "source": [
    "direction = input(\"Type 'encode' to encrypt, type 'decode' to decrypt:\\n\")\n",
    "text = input(\"Type your message:\\n\").lower()\n",
    "shift = int(input(\"Type the shift number:\\n\"))"
   ]
  },
  {
   "cell_type": "code",
   "execution_count": 5,
   "metadata": {},
   "outputs": [
    {
     "name": "stdout",
     "output_type": "stream",
     "text": [
      "The encoded text is {cipher_text}\n"
     ]
    }
   ],
   "source": [
    "def encrypt(plain_text,shift_amount):\n",
    "\tcipher_text = \"\"\n",
    "\tfor letter in plain_text:\n",
    "\t\tposition = alphabet.index(letter)\n",
    "\t\tnew_position = position + shift_amount\n",
    "\t\tnew_letter = alphabet[new_position]\n",
    "\t\tcipher_text += new_letter\n",
    "\tprint('The encoded text is {cipher_text}')\n",
    "\n",
    "\n",
    "encrypt(plain_text = text,shift_amount= shift)\t"
   ]
  },
  {
   "cell_type": "code",
   "execution_count": null,
   "metadata": {},
   "outputs": [],
   "source": [
    "def decrypt(plain_text,shift_amount):\n",
    "\tcipher_text = \"\"\n",
    "\tfor letter in plain_text:\n",
    "\t\tposition = alphabet.index(letter)\n",
    "\t\tnew_position = position - shift_amount\n",
    "\t\tnew_letter = alphabet[new_position]\n",
    "\t\tcipher_text += new_letter\n",
    "\tprint('The decrypted text is {cipher_text}')"
   ]
  }
 ],
 "metadata": {
  "kernelspec": {
   "display_name": "Python 3.10.4 64-bit",
   "language": "python",
   "name": "python3"
  },
  "language_info": {
   "codemirror_mode": {
    "name": "ipython",
    "version": 3
   },
   "file_extension": ".py",
   "mimetype": "text/x-python",
   "name": "python",
   "nbconvert_exporter": "python",
   "pygments_lexer": "ipython3",
   "version": "3.10.4"
  },
  "orig_nbformat": 4,
  "vscode": {
   "interpreter": {
    "hash": "f1649c0591d2f09531c2cd4b5d7087e2a9c3999b9ffa0f754ab2010e5d55a0cb"
   }
  }
 },
 "nbformat": 4,
 "nbformat_minor": 2
}
