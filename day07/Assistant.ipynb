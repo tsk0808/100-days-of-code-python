{
 "cells": [
  {
   "cell_type": "code",
   "execution_count": 19,
   "metadata": {},
   "outputs": [],
   "source": [
    "import random"
   ]
  },
  {
   "cell_type": "code",
   "execution_count": 20,
   "metadata": {},
   "outputs": [],
   "source": [
    "word_lists = ['ardvark','baboon', 'cemel']"
   ]
  },
  {
   "cell_type": "code",
   "execution_count": 21,
   "metadata": {},
   "outputs": [
    {
     "data": {
      "text/plain": [
       "'cemel'"
      ]
     },
     "execution_count": 21,
     "metadata": {},
     "output_type": "execute_result"
    }
   ],
   "source": [
    "random.choice(word_lists)"
   ]
  },
  {
   "cell_type": "code",
   "execution_count": 22,
   "metadata": {},
   "outputs": [
    {
     "data": {
      "text/plain": [
       "'baboon'"
      ]
     },
     "execution_count": 22,
     "metadata": {},
     "output_type": "execute_result"
    }
   ],
   "source": [
    "random.choice(word_lists)\n"
   ]
  },
  {
   "cell_type": "code",
   "execution_count": 23,
   "metadata": {},
   "outputs": [
    {
     "data": {
      "text/plain": [
       "'cemel'"
      ]
     },
     "execution_count": 23,
     "metadata": {},
     "output_type": "execute_result"
    }
   ],
   "source": [
    "random.choice(word_lists)"
   ]
  },
  {
   "cell_type": "code",
   "execution_count": 24,
   "metadata": {},
   "outputs": [
    {
     "data": {
      "text/plain": [
       "'baboon'"
      ]
     },
     "execution_count": 24,
     "metadata": {},
     "output_type": "execute_result"
    }
   ],
   "source": [
    "random.choice(word_lists)"
   ]
  },
  {
   "cell_type": "code",
   "execution_count": 25,
   "metadata": {},
   "outputs": [
    {
     "data": {
      "text/plain": [
       "'ardvark'"
      ]
     },
     "execution_count": 25,
     "metadata": {},
     "output_type": "execute_result"
    }
   ],
   "source": [
    "random.choice(word_lists)"
   ]
  },
  {
   "cell_type": "code",
   "execution_count": 26,
   "metadata": {},
   "outputs": [],
   "source": [
    "chosen_word = random.choice(word_lists)\n",
    "word_length = len(chosen_word)"
   ]
  },
  {
   "cell_type": "code",
   "execution_count": null,
   "metadata": {},
   "outputs": [],
   "source": []
  },
  {
   "cell_type": "code",
   "execution_count": 27,
   "metadata": {},
   "outputs": [
    {
     "name": "stdout",
     "output_type": "stream",
     "text": [
      "pssst, the solution is choosen ardvark\n"
     ]
    }
   ],
   "source": [
    "print(f'pssst, the solution is choosen {chosen_word}')"
   ]
  },
  {
   "cell_type": "code",
   "execution_count": 28,
   "metadata": {},
   "outputs": [],
   "source": [
    "guess = input(\"Guess a letter: \").lower()"
   ]
  },
  {
   "cell_type": "code",
   "execution_count": 29,
   "metadata": {},
   "outputs": [
    {
     "name": "stdout",
     "output_type": "stream",
     "text": [
      "['_', '_', '_', '_', '_', '_', '_']\n"
     ]
    }
   ],
   "source": [
    "\n",
    "display = []\n",
    "\n",
    "for letter in range(len(chosen_word)):\n",
    "\tdisplay += '_'\n",
    "\n",
    "print(display)"
   ]
  },
  {
   "cell_type": "code",
   "execution_count": 31,
   "metadata": {},
   "outputs": [
    {
     "name": "stdout",
     "output_type": "stream",
     "text": [
      "Current position: 0\n",
      " Current letter: a\n",
      " Guessed letter: a\n",
      "Current position: 1\n",
      " Current letter: r\n",
      " Guessed letter: a\n",
      "Current position: 2\n",
      " Current letter: d\n",
      " Guessed letter: a\n",
      "Current position: 3\n",
      " Current letter: v\n",
      " Guessed letter: a\n",
      "Current position: 4\n",
      " Current letter: a\n",
      " Guessed letter: a\n",
      "Current position: 5\n",
      " Current letter: r\n",
      " Guessed letter: a\n",
      "Current position: 6\n",
      " Current letter: k\n",
      " Guessed letter: a\n",
      "['a', '_', '_', '_', 'a', '_', '_']\n"
     ]
    }
   ],
   "source": [
    "for position in range(len(chosen_word)):\n",
    "\tletter = chosen_word[position]\n",
    "\n",
    "\tprint(f'Current position: {position}\\n Current letter: {letter}\\n Guessed letter: {guess}')\n",
    "\tif letter == guess:\n",
    "\t\tdisplay[position] = letter\n",
    "\n",
    "\n",
    "print(display)\n",
    "\t\t"
   ]
  },
  {
   "cell_type": "code",
   "execution_count": 35,
   "metadata": {},
   "outputs": [
    {
     "name": "stdout",
     "output_type": "stream",
     "text": [
      "No match\n",
      "No match\n",
      "No match\n",
      "No match\n",
      "No match\n",
      "['a', 'r', 'd', 'v', 'a', 'r', 'k']\n",
      "You wind!\n"
     ]
    }
   ],
   "source": [
    "end_of_game = False\n",
    "\n",
    "\n",
    "while not end_of_game:\n",
    "\n",
    "\tguess = input(\"Guess a letter: \").lower()\n",
    "\n",
    "\n",
    "\tfor position in range(len(chosen_word)):\n",
    "\t\tletter = chosen_word[position]\n",
    "\n",
    "#\t\tprint(f'Current position: {position}\\n Current letter: {letter}\\n Guessed letter: {guess}')\n",
    "\t\tif letter == guess:\n",
    "\t\t\tdisplay[position] = letter\n",
    "\t\telse:\n",
    "\t\t\tprint('No match')\t\n",
    "\n",
    "\n",
    "\tprint(display)\n",
    "\n",
    "\tif \"_\" not in display:\n",
    "\t\tend_of_game = True\n",
    "\t\tprint(\"You wind!\")\n",
    "\t\t\t"
   ]
  },
  {
   "cell_type": "code",
   "execution_count": 39,
   "metadata": {},
   "outputs": [],
   "source": [
    "from hangman_art import stages"
   ]
  },
  {
   "cell_type": "code",
   "execution_count": 40,
   "metadata": {},
   "outputs": [],
   "source": [
    "lives = 6"
   ]
  },
  {
   "cell_type": "code",
   "execution_count": 41,
   "metadata": {},
   "outputs": [
    {
     "name": "stdout",
     "output_type": "stream",
     "text": [
      "No match\n",
      "No match\n",
      "No match\n",
      "No match\n",
      "No match\n",
      "['a', 'r', 'd', 'v', 'a', 'r', 'k']\n",
      "You wind!\n",
      "\n",
      "  +---+\n",
      "  |   |\n",
      "      |\n",
      "      |\n",
      "      |\n",
      "      |\n",
      "=========\n",
      "\n"
     ]
    }
   ],
   "source": [
    "end_of_game = False\n",
    "\n",
    "\n",
    "while not end_of_game:\n",
    "\n",
    "\tguess = input(\"Guess a letter: \").lower()\n",
    "\n",
    "\n",
    "\tfor position in range(len(chosen_word)):\n",
    "\t\tletter = chosen_word[position]\n",
    "\n",
    "#\t\tprint(f'Current position: {position}\\n Current letter: {letter}\\n Guessed letter: {guess}')\n",
    "\t\tif letter == guess:\n",
    "\t\t\tdisplay[position] = letter\n",
    "\t\telse:\n",
    "\t\t\tprint('No match')\t\n",
    "\n",
    "\tif guess not in chosen_word:\n",
    "\t\tlives -= 1\n",
    "\t\tif lives == 0:\n",
    "\t\t\tend_of_game = True\n",
    "\t\t\tprint('You lose.')\n",
    "\n",
    "\tprint(display)\n",
    "\n",
    "\tif \"_\" not in display:\n",
    "\t\tend_of_game = True\n",
    "\t\tprint(\"You wind!\")\n",
    "\n",
    "\tprint(stages[lives])"
   ]
  },
  {
   "cell_type": "code",
   "execution_count": null,
   "metadata": {},
   "outputs": [],
   "source": [
    "# step 5"
   ]
  },
  {
   "cell_type": "code",
   "execution_count": null,
   "metadata": {},
   "outputs": [],
   "source": []
  },
  {
   "cell_type": "code",
   "execution_count": null,
   "metadata": {},
   "outputs": [],
   "source": []
  },
  {
   "cell_type": "code",
   "execution_count": 44,
   "metadata": {},
   "outputs": [],
   "source": [
    "from hangman_art import stages, logo2, logo3\n",
    "from hangman_words import word_list"
   ]
  },
  {
   "cell_type": "code",
   "execution_count": 45,
   "metadata": {},
   "outputs": [],
   "source": [
    "lives = 6"
   ]
  },
  {
   "cell_type": "code",
   "execution_count": 46,
   "metadata": {},
   "outputs": [],
   "source": [
    "chosen_word = random.choice(word_list)\n",
    "word_length = len(chosen_word)"
   ]
  },
  {
   "cell_type": "code",
   "execution_count": 47,
   "metadata": {},
   "outputs": [
    {
     "name": "stdout",
     "output_type": "stream",
     "text": [
      "\n",
      "█░█░█ █▀▀ █░░ █▀▀ █▀█ █▀▄▀█ █▀▀   ▀█▀ █▀█ ▀\n",
      "▀▄▀▄▀ ██▄ █▄▄ █▄▄ █▄█ █░▀░█ ██▄   ░█░ █▄█ ▄\n",
      "\n",
      "██╗░░██╗░█████╗░███╗░░██╗░██████╗░███╗░░░███╗░█████╗░███╗░░██╗\n",
      "██║░░██║██╔══██╗████╗░██║██╔════╝░████╗░████║██╔══██╗████╗░██║\n",
      "███████║███████║██╔██╗██║██║░░██╗░██╔████╔██║███████║██╔██╗██║\n",
      "██╔══██║██╔══██║██║╚████║██║░░╚██╗██║╚██╔╝██║██╔══██║██║╚████║\n",
      "██║░░██║██║░░██║██║░╚███║╚██████╔╝██║░╚═╝░██║██║░░██║██║░╚███║\n",
      "╚═╝░░╚═╝╚═╝░░╚═╝╚═╝░░╚══╝░╚═════╝░╚═╝░░░░░╚═╝╚═╝░░╚═╝╚═╝░░╚══╝\n"
     ]
    }
   ],
   "source": [
    "print(logo3)"
   ]
  },
  {
   "cell_type": "code",
   "execution_count": null,
   "metadata": {},
   "outputs": [],
   "source": [
    "\n",
    "\n",
    "\n",
    "end_of_game = False\n",
    "\n",
    "\n",
    "while not end_of_game:\n",
    "\n",
    "\tguess = input(\"Guess a letter: \").lower()\n",
    "\n",
    "\n",
    "\tfor position in range(len(chosen_word)):\n",
    "\t\tletter = chosen_word[position]\n",
    "\n",
    "#\t\tprint(f'Current position: {position}\\n Current letter: {letter}\\n Guessed letter: {guess}')\n",
    "\t\tif letter == guess:\n",
    "\t\t\tdisplay[position] = letter\n",
    "\t\telse:\n",
    "\t\t\tprint('No match')\t\n",
    "\n",
    "\tif guess not in chosen_word:\n",
    "\t\tlives -= 1\n",
    "\t\tif lives == 0:\n",
    "\t\t\tend_of_game = True\n",
    "\t\t\tprint('You lose.')\n",
    "\n",
    "\tprint(display)\n",
    "\n",
    "\tif \"_\" not in display:\n",
    "\t\tend_of_game = True\n",
    "\t\tprint(\"You wind!\")\n",
    "\n",
    "\tprint(stages[lives])"
   ]
  }
 ],
 "metadata": {
  "kernelspec": {
   "display_name": "Python 3.10.4 64-bit",
   "language": "python",
   "name": "python3"
  },
  "language_info": {
   "codemirror_mode": {
    "name": "ipython",
    "version": 3
   },
   "file_extension": ".py",
   "mimetype": "text/x-python",
   "name": "python",
   "nbconvert_exporter": "python",
   "pygments_lexer": "ipython3",
   "version": "3.10.4"
  },
  "orig_nbformat": 4,
  "vscode": {
   "interpreter": {
    "hash": "f1649c0591d2f09531c2cd4b5d7087e2a9c3999b9ffa0f754ab2010e5d55a0cb"
   }
  }
 },
 "nbformat": 4,
 "nbformat_minor": 2
}
