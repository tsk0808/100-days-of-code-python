{
 "cells": [
  {
   "cell_type": "code",
   "execution_count": 31,
   "metadata": {},
   "outputs": [
    {
     "name": "stdout",
     "output_type": "stream",
     "text": [
      "⑥\n"
     ]
    }
   ],
   "source": [
    "from random import randint\n",
    "\n",
    "\n",
    "'''\n",
    "⓿ ❶ ❷ ❸ ❹ ❺ ❻ ❼ ❽ ❾ ❿ ⓫ ⓬ ⓭ ⓮ ⓯ ⓰ ⓱ ⓲ ⓳ ⓴\n",
    "'''\n",
    "\n",
    "dice_imgs = ['❶', '❷', '❸', '❹', '❺', '❻']\n",
    "dice_dum = randint(1,6)\t# including both end points\n",
    "\n",
    "print(dice_imgs[dice_dum])"
   ]
  },
  {
   "cell_type": "code",
   "execution_count": null,
   "metadata": {},
   "outputs": [],
   "source": [
    "from random import randint\n",
    "\n",
    "dice_imgs = ['①', '②', '③', '④', '⑤', '⑥']\n",
    "dice_dum = randint(0,5)\t# including both end points\n",
    "\n",
    "print(dice_imgs[dice_dum])"
   ]
  }
 ],
 "metadata": {
  "kernelspec": {
   "display_name": "Python 3.10.4 64-bit",
   "language": "python",
   "name": "python3"
  },
  "language_info": {
   "codemirror_mode": {
    "name": "ipython",
    "version": 3
   },
   "file_extension": ".py",
   "mimetype": "text/x-python",
   "name": "python",
   "nbconvert_exporter": "python",
   "pygments_lexer": "ipython3",
   "version": "3.10.4"
  },
  "orig_nbformat": 4,
  "vscode": {
   "interpreter": {
    "hash": "f1649c0591d2f09531c2cd4b5d7087e2a9c3999b9ffa0f754ab2010e5d55a0cb"
   }
  }
 },
 "nbformat": 4,
 "nbformat_minor": 2
}
